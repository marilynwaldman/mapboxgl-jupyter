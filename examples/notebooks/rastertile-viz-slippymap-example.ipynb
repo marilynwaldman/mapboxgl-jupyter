{
 "cells": [
  {
   "cell_type": "markdown",
   "metadata": {},
   "source": [
    "# Mapboxgl Python Library for location data visualizaiton\n",
    "\n",
    "https://github.com/mapbox/mapboxgl-jupyter\n",
    "\n",
    "### Requirements\n",
    "\n",
    "These examples require the installation of the following python modules\n",
    "\n",
    "```\n",
    "pip install mapboxgl rio-glui==1.0.0\n",
    "```"
   ]
  },
  {
   "cell_type": "code",
   "execution_count": 4,
   "metadata": {},
   "outputs": [
    {
     "name": "stdout",
     "output_type": "stream",
     "text": [
      "\u001b[33mDEPRECATION: Python 2.7 will reach the end of its life on January 1st, 2020. Please upgrade your Python as Python 2.7 won't be maintained after that date. A future version of pip will drop support for Python 2.7. More details about Python 2 support in pip, can be found at https://pip.pypa.io/en/latest/development/release-process/#python-2-support\u001b[0m\n",
      "Collecting mapboxgl\n",
      "  Using cached https://files.pythonhosted.org/packages/4f/e1/cdaa6c2f6d3a7a29b0b9a675dcfc25f4c481d577d137da8c769f13014ce5/mapboxgl-0.10.2-py2.py3-none-any.whl\n",
      "\u001b[31mERROR: Could not find a version that satisfies the requirement rio-glui==1.0.0 (from versions: 1.0.1, 1.0.2, 1.0.3, 1.0.4, 1.0.5)\u001b[0m\n",
      "\u001b[31mERROR: No matching distribution found for rio-glui==1.0.0\u001b[0m\n"
     ]
    },
    {
     "ename": "ModuleNotFoundError",
     "evalue": "No module named 'rio_glui'",
     "output_type": "error",
     "traceback": [
      "\u001b[0;31m---------------------------------------------------------------------------\u001b[0m",
      "\u001b[0;31mModuleNotFoundError\u001b[0m                       Traceback (most recent call last)",
      "\u001b[0;32m<ipython-input-4-3485fb8c0965>\u001b[0m in \u001b[0;36m<module>\u001b[0;34m\u001b[0m\n\u001b[1;32m      2\u001b[0m \u001b[0mget_ipython\u001b[0m\u001b[0;34m(\u001b[0m\u001b[0;34m)\u001b[0m\u001b[0;34m.\u001b[0m\u001b[0msystem\u001b[0m\u001b[0;34m(\u001b[0m\u001b[0;34m'pip install mapboxgl rio-glui==1.0.0'\u001b[0m\u001b[0;34m)\u001b[0m\u001b[0;34m\u001b[0m\u001b[0;34m\u001b[0m\u001b[0m\n\u001b[1;32m      3\u001b[0m \u001b[0;34m\u001b[0m\u001b[0m\n\u001b[0;32m----> 4\u001b[0;31m \u001b[0;32mfrom\u001b[0m \u001b[0mrio_glui\u001b[0m\u001b[0;34m.\u001b[0m\u001b[0mserver\u001b[0m \u001b[0;32mimport\u001b[0m \u001b[0mTileServer\u001b[0m\u001b[0;34m\u001b[0m\u001b[0;34m\u001b[0m\u001b[0m\n\u001b[0m\u001b[1;32m      5\u001b[0m \u001b[0;32mfrom\u001b[0m \u001b[0mrio_glui\u001b[0m\u001b[0;34m.\u001b[0m\u001b[0mraster\u001b[0m \u001b[0;32mimport\u001b[0m \u001b[0mRasterTiles\u001b[0m\u001b[0;34m\u001b[0m\u001b[0;34m\u001b[0m\u001b[0m\n\u001b[1;32m      6\u001b[0m \u001b[0;34m\u001b[0m\u001b[0m\n",
      "\u001b[0;31mModuleNotFoundError\u001b[0m: No module named 'rio_glui'"
     ]
    }
   ],
   "source": [
    "import os\n",
    "!pip install mapboxgl rio-glui==1.0.0\n",
    "\n",
    "from rio_glui.server import TileServer\n",
    "from rio_glui.raster import RasterTiles\n",
    "\n",
    "from mapboxgl.utils import *\n",
    "from mapboxgl.viz import *\n"
   ]
  },
  {
   "cell_type": "code",
   "execution_count": null,
   "metadata": {},
   "outputs": [],
   "source": [
    "token = os.getenv('MAPBOX_ACCESS_TOKEN')\n",
    "token = 'pk.eyJ1IjoibWR3YWxkbWFuMjIiLCJhIjoiY2thc2pwYW54MDJmNDJxbjM1aWI0ZjcwbSJ9.g7oPQVhYS4-qgM46yJ-xAg'"
   ]
  },
  {
   "cell_type": "code",
   "execution_count": null,
   "metadata": {},
   "outputs": [],
   "source": [
    "# Create local tile server using `rio-glui`\n",
    "url = 'https://oin-hotosm.s3.amazonaws.com/5ac626e091b5310010e0d482/0/5ac626e091b5310010e0d483.tif'\n",
    "\n",
    "# Create raster tile object \n",
    "# More info: https://github.com/mapbox/rio-glui/blob/master/rio_glui/raster.py#L16-L44\n",
    "raster = RasterTiles(url, indexes=(2, 1, 3))\n",
    "\n",
    "# Create local tile server\n",
    "# More info: https://github.com/mapbox/rio-glui/blob/master/rio_glui/server.py#L21-L56\n",
    "ts = TileServer(raster)\n",
    "\n",
    "# Start tile server \n",
    "ts.start()"
   ]
  },
  {
   "cell_type": "code",
   "execution_count": null,
   "metadata": {
    "scrolled": false
   },
   "outputs": [],
   "source": [
    "# Initialize RasterTiles Viz by passing our local tile server url `ts.get_tiles_url` \n",
    "viz = RasterTilesViz(ts.get_tiles_url(), \n",
    "                     tiles_bounds=ts.get_bounds(),\n",
    "                     center=ts.get_center(),\n",
    "                     access_token=token, \n",
    "                     height='1000px', \n",
    "                     zoom=13)\n",
    "viz.show()"
   ]
  },
  {
   "cell_type": "code",
   "execution_count": null,
   "metadata": {},
   "outputs": [],
   "source": [
    "# We need to stop the previous server in order to create a new one\n",
    "ts.stop()\n",
    "\n",
    "raster = RasterTiles(url, indexes=(1,2,3))\n",
    "ts = TileServer(raster)\n",
    "ts.start()"
   ]
  },
  {
   "cell_type": "code",
   "execution_count": null,
   "metadata": {},
   "outputs": [],
   "source": [
    "viz = RasterTilesViz(ts.get_tiles_url(), \n",
    "                     tiles_bounds=ts.get_bounds(),\n",
    "                     center=ts.get_center(),\n",
    "                     access_token=token, \n",
    "                     height='1000px', \n",
    "                     zoom=13)\n",
    "viz.show()"
   ]
  }
 ],
 "metadata": {
  "kernelspec": {
   "display_name": "Python 3",
   "language": "python",
   "name": "python3"
  },
  "language_info": {
   "codemirror_mode": {
    "name": "ipython",
    "version": 3
   },
   "file_extension": ".py",
   "mimetype": "text/x-python",
   "name": "python",
   "nbconvert_exporter": "python",
   "pygments_lexer": "ipython3",
   "version": "3.7.6"
  }
 },
 "nbformat": 4,
 "nbformat_minor": 2
}
